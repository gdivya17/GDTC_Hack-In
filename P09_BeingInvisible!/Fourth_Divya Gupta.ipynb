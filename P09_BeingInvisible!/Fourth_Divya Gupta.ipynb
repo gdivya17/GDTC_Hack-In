{
 "cells": [
  {
   "cell_type": "code",
   "execution_count": 1,
   "metadata": {},
   "outputs": [],
   "source": [
    "import cv2"
   ]
  },
  {
   "cell_type": "code",
   "execution_count": 6,
   "metadata": {},
   "outputs": [
    {
     "name": "stdout",
     "output_type": "stream",
     "text": [
      "enter Esc for closing the tab\n",
      "opencv_frame_0.png written!\n",
      "opencv_frame_1.png written!\n",
      "opencv_frame_2.png written!\n",
      "opencv_frame_3.png written!\n",
      "opencv_frame_4.png written!\n",
      "opencv_frame_5.png written!\n",
      "opencv_frame_6.png written!\n",
      "opencv_frame_7.png written!\n",
      "opencv_frame_8.png written!\n",
      "closed\n"
     ]
    }
   ],
   "source": [
    "cam = cv2.VideoCapture('https://192.168.43.1:8080/video')\n",
    "img_counter = 0\n",
    "print(\"enter Esc for closing the tab\")\n",
    "\n",
    "while True:\n",
    "    ret, frame = cam.read()\n",
    "    cv2.imshow(\"frame\", frame)\n",
    "    if not ret:\n",
    "        break\n",
    "    k = cv2.waitKey(5)\n",
    "    if k==27:\n",
    "        break\n",
    "    elif k==32:\n",
    "        img_named = \"opencv_frame_{}.png\".format(img_counter)\n",
    "        cv2.imwrite(img_named, frame)\n",
    "        print(\"{} written!\".format(img_named))\n",
    "        img_counter += 1\n",
    "        \n",
    "cam.release()\n",
    "print(\"closed\")\n",
    "\n",
    "cv2.destroyAllWindows()"
   ]
  },
  {
   "cell_type": "code",
   "execution_count": 5,
   "metadata": {},
   "outputs": [
    {
     "data": {
      "text/plain": [
       "32"
      ]
     },
     "execution_count": 5,
     "metadata": {},
     "output_type": "execute_result"
    }
   ],
   "source": [
    "ord(\" \")"
   ]
  },
  {
   "cell_type": "code",
   "execution_count": null,
   "metadata": {},
   "outputs": [],
   "source": []
  }
 ],
 "metadata": {
  "kernelspec": {
   "display_name": "Python 3",
   "language": "python",
   "name": "python3"
  },
  "language_info": {
   "codemirror_mode": {
    "name": "ipython",
    "version": 3
   },
   "file_extension": ".py",
   "mimetype": "text/x-python",
   "name": "python",
   "nbconvert_exporter": "python",
   "pygments_lexer": "ipython3",
   "version": "3.6.5"
  }
 },
 "nbformat": 4,
 "nbformat_minor": 2
}
